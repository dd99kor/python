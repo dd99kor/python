{
 "cells": [
  {
   "cell_type": "markdown",
   "metadata": {},
   "source": [
    "jupyter notebook은 magic 함수를 써서 이것저것 해볼 수 있다.\n",
    "\n",
    "1. 시간측정 %timeit\n",
    "    - %timeit = 한 코드에 걸리는 시간 ex) %timeit L = [ n ** 2 for n in range(1000)]\n",
    "    - %%timeit = chunk 하나 소화하는데 걸리는 시간. 그냥 청크 앞에 붙여주면 된다.\n",
    "    \n",
    "2. *?(와일드카드 + ?) 뒤에 올 수 있는 후보 보여주는 커맨드\n",
    "\n",
    "3. len?\n",
    "    - 변수 설명, 함수 사용법, 매직함수 설명서 등 물어볼 수 있다.\n",
    "    \n",
    "4. %magic\n",
    "    - magic 함수 관련 문서"
   ]
  },
  {
   "cell_type": "code",
   "execution_count": 15,
   "metadata": {},
   "outputs": [
    {
     "name": "stdout",
     "output_type": "stream",
     "text": [
      "276 µs ± 1.64 µs per loop (mean ± std. dev. of 7 runs, 1000 loops each)\n"
     ]
    }
   ],
   "source": [
    "%%timeit\n",
    "L = []\n",
    "for i in range(1000):\n",
    "    L = i ** 2"
   ]
  },
  {
   "cell_type": "code",
   "execution_count": 23,
   "metadata": {},
   "outputs": [],
   "source": [
    "def func1(a,b):\n",
    "    return a/b\n",
    "def func2(x):\n",
    "    a = x\n",
    "    b = x-1\n",
    "    return func1(a,b)"
   ]
  },
  {
   "cell_type": "markdown",
   "metadata": {},
   "source": [
    "디버깅\n",
    "\n",
    "1. %xmode [Plain,Context,Verbose] \n",
    "    - 에러설명이 어떻게 뜨는지 확인할 수 있다.\n",
    "2. %debug \n",
    "    - 에러 부분에 어떤 값들이 있는지 확인할 수 있다.\n",
    "    - 명령어 모음이 따로 있다.\n",
    "3. %pdb on\n",
    "    - 에러 발생시 자동으로 디버그 콘솔이 뜬다."
   ]
  },
  {
   "cell_type": "code",
   "execution_count": 32,
   "metadata": {},
   "outputs": [
    {
     "name": "stdout",
     "output_type": "stream",
     "text": [
      "Exception reporting mode: Verbose\n"
     ]
    }
   ],
   "source": [
    "# Plain, Context, Verbose 형태가 있다.\n",
    "%xmode Verbose "
   ]
  },
  {
   "cell_type": "code",
   "execution_count": 36,
   "metadata": {},
   "outputs": [
    {
     "name": "stdout",
     "output_type": "stream",
     "text": [
      "Exception reporting mode: Plain\n"
     ]
    }
   ],
   "source": [
    "%xmode Plain"
   ]
  },
  {
   "cell_type": "code",
   "execution_count": 37,
   "metadata": {},
   "outputs": [
    {
     "name": "stdout",
     "output_type": "stream",
     "text": [
      "Automatic pdb calling has been turned ON\n"
     ]
    }
   ],
   "source": [
    "%pdb on"
   ]
  }
 ],
 "metadata": {
  "kernelspec": {
   "display_name": "Python 3",
   "language": "python",
   "name": "python3"
  },
  "language_info": {
   "codemirror_mode": {
    "name": "ipython",
    "version": 3
   },
   "file_extension": ".py",
   "mimetype": "text/x-python",
   "name": "python",
   "nbconvert_exporter": "python",
   "pygments_lexer": "ipython3",
   "version": "3.6.5"
  }
 },
 "nbformat": 4,
 "nbformat_minor": 2
}
